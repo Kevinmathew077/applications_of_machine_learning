{
 "cells": [
  {
   "cell_type": "code",
   "execution_count": 2,
   "id": "c18e3d45-b9d9-41c5-872d-d92a6a29d535",
   "metadata": {
    "tags": []
   },
   "outputs": [],
   "source": [
    "import os\n",
    "import pandas as pd\n",
    "import numpy as np\n",
    "from keras.models import Sequential\n",
    "from keras.layers import Dense, Dropout, Flatten, Conv2D, MaxPooling2D\n",
    "from keras.utils import np_utils\n",
    "from sklearn.model_selection import train_test_split\n"
   ]
  },
  {
   "cell_type": "code",
   "execution_count": 3,
   "id": "324d591c-bdc2-4a98-b04f-ee61b8c0b980",
   "metadata": {
    "tags": []
   },
   "outputs": [],
   "source": [
    "root_directory = os.getcwd()\n",
    "\n",
    "working_directory = f\"{root_directory}/working/frames/\"\n",
    "json_directory = f\"{root_directory}/working/json/\"\n",
    "face_directory = f\"{root_directory}/working/faces/\"\n",
    "\n",
    "# Load the FER2013 dataset\n",
    "data = pd.read_csv(f\"{root_directory}/utils/prebuilt/fer2013.csv\")"
   ]
  },
  {
   "cell_type": "code",
   "execution_count": 5,
   "id": "bc561fee-b58c-457d-91f0-406a34a8f3c0",
   "metadata": {
    "tags": []
   },
   "outputs": [],
   "source": [
    "import cv2"
   ]
  },
  {
   "cell_type": "code",
   "execution_count": 6,
   "id": "3e31d667-b71f-4c12-be44-90e62dbbff6d",
   "metadata": {
    "tags": []
   },
   "outputs": [],
   "source": [
    "train_data = data[data['Usage'] == 'Training']\n",
    "test_data = data[data['Usage'] == 'PrivateTest']                  \n",
    "val_data = data[data['Usage'] == 'PublicTest']                  "
   ]
  },
  {
   "cell_type": "code",
   "execution_count": 7,
   "id": "6138e84a-b550-45f6-84b8-6ded0df608ec",
   "metadata": {
    "tags": []
   },
   "outputs": [],
   "source": [
    "new_size = (128,128)"
   ]
  },
  {
   "cell_type": "code",
   "execution_count": 8,
   "id": "b04e99ed-7725-469e-b21b-ddb1c2e385c1",
   "metadata": {},
   "outputs": [
    {
     "data": {
      "text/html": [
       "<div>\n",
       "<style scoped>\n",
       "    .dataframe tbody tr th:only-of-type {\n",
       "        vertical-align: middle;\n",
       "    }\n",
       "\n",
       "    .dataframe tbody tr th {\n",
       "        vertical-align: top;\n",
       "    }\n",
       "\n",
       "    .dataframe thead th {\n",
       "        text-align: right;\n",
       "    }\n",
       "</style>\n",
       "<table border=\"1\" class=\"dataframe\">\n",
       "  <thead>\n",
       "    <tr style=\"text-align: right;\">\n",
       "      <th></th>\n",
       "      <th>emotion</th>\n",
       "      <th>pixels</th>\n",
       "      <th>Usage</th>\n",
       "    </tr>\n",
       "  </thead>\n",
       "  <tbody>\n",
       "    <tr>\n",
       "      <th>0</th>\n",
       "      <td>0</td>\n",
       "      <td>70 80 82 72 58 58 60 63 54 58 60 48 89 115 121...</td>\n",
       "      <td>Training</td>\n",
       "    </tr>\n",
       "    <tr>\n",
       "      <th>1</th>\n",
       "      <td>0</td>\n",
       "      <td>151 150 147 155 148 133 111 140 170 174 182 15...</td>\n",
       "      <td>Training</td>\n",
       "    </tr>\n",
       "    <tr>\n",
       "      <th>2</th>\n",
       "      <td>2</td>\n",
       "      <td>231 212 156 164 174 138 161 173 182 200 106 38...</td>\n",
       "      <td>Training</td>\n",
       "    </tr>\n",
       "    <tr>\n",
       "      <th>3</th>\n",
       "      <td>4</td>\n",
       "      <td>24 32 36 30 32 23 19 20 30 41 21 22 32 34 21 1...</td>\n",
       "      <td>Training</td>\n",
       "    </tr>\n",
       "    <tr>\n",
       "      <th>4</th>\n",
       "      <td>6</td>\n",
       "      <td>4 0 0 0 0 0 0 0 0 0 0 0 3 15 23 28 48 50 58 84...</td>\n",
       "      <td>Training</td>\n",
       "    </tr>\n",
       "    <tr>\n",
       "      <th>...</th>\n",
       "      <td>...</td>\n",
       "      <td>...</td>\n",
       "      <td>...</td>\n",
       "    </tr>\n",
       "    <tr>\n",
       "      <th>28704</th>\n",
       "      <td>2</td>\n",
       "      <td>84 85 85 85 85 85 85 85 86 86 86 87 86 86 91 9...</td>\n",
       "      <td>Training</td>\n",
       "    </tr>\n",
       "    <tr>\n",
       "      <th>28705</th>\n",
       "      <td>0</td>\n",
       "      <td>114 112 113 113 111 111 112 113 115 113 114 11...</td>\n",
       "      <td>Training</td>\n",
       "    </tr>\n",
       "    <tr>\n",
       "      <th>28706</th>\n",
       "      <td>4</td>\n",
       "      <td>74 81 87 89 95 100 98 93 105 120 127 133 146 1...</td>\n",
       "      <td>Training</td>\n",
       "    </tr>\n",
       "    <tr>\n",
       "      <th>28707</th>\n",
       "      <td>0</td>\n",
       "      <td>222 227 203 90 86 90 84 77 94 87 99 119 134 14...</td>\n",
       "      <td>Training</td>\n",
       "    </tr>\n",
       "    <tr>\n",
       "      <th>28708</th>\n",
       "      <td>4</td>\n",
       "      <td>195 199 205 206 205 203 206 209 208 210 212 21...</td>\n",
       "      <td>Training</td>\n",
       "    </tr>\n",
       "  </tbody>\n",
       "</table>\n",
       "<p>28709 rows × 3 columns</p>\n",
       "</div>"
      ],
      "text/plain": [
       "       emotion                                             pixels     Usage\n",
       "0            0  70 80 82 72 58 58 60 63 54 58 60 48 89 115 121...  Training\n",
       "1            0  151 150 147 155 148 133 111 140 170 174 182 15...  Training\n",
       "2            2  231 212 156 164 174 138 161 173 182 200 106 38...  Training\n",
       "3            4  24 32 36 30 32 23 19 20 30 41 21 22 32 34 21 1...  Training\n",
       "4            6  4 0 0 0 0 0 0 0 0 0 0 0 3 15 23 28 48 50 58 84...  Training\n",
       "...        ...                                                ...       ...\n",
       "28704        2  84 85 85 85 85 85 85 85 86 86 86 87 86 86 91 9...  Training\n",
       "28705        0  114 112 113 113 111 111 112 113 115 113 114 11...  Training\n",
       "28706        4  74 81 87 89 95 100 98 93 105 120 127 133 146 1...  Training\n",
       "28707        0  222 227 203 90 86 90 84 77 94 87 99 119 134 14...  Training\n",
       "28708        4  195 199 205 206 205 203 206 209 208 210 212 21...  Training\n",
       "\n",
       "[28709 rows x 3 columns]"
      ]
     },
     "execution_count": 8,
     "metadata": {},
     "output_type": "execute_result"
    }
   ],
   "source": [
    "train_data\n"
   ]
  },
  {
   "cell_type": "code",
   "execution_count": 9,
   "id": "218ea3c9-5689-4232-ab64-f7f27e287c7d",
   "metadata": {
    "tags": []
   },
   "outputs": [],
   "source": [
    "# Reshape and resize the training set\n",
    "x_train = np.array([cv2.resize(np.array(image.split(' '), dtype='uint8').reshape(48, 48), new_size).reshape(128, 128, 1) for image in train_data['pixels']])"
   ]
  },
  {
   "cell_type": "code",
   "execution_count": 10,
   "id": "a6d4b6b5-14c8-4466-8a36-f28bcf2d3675",
   "metadata": {
    "tags": []
   },
   "outputs": [],
   "source": [
    "x_test = np.array([cv2.resize(np.array(image.split(' '), dtype='uint8').reshape(48, 48), new_size).reshape(128, 128, 1) for image in test_data['pixels']])"
   ]
  },
  {
   "cell_type": "code",
   "execution_count": 11,
   "id": "2c4c1261-7a64-4de1-acbf-971f75323fc3",
   "metadata": {
    "tags": []
   },
   "outputs": [],
   "source": [
    "x_val = np.array([cv2.resize(np.array(image.split(' '), dtype='uint8').reshape(48, 48), new_size).reshape(128, 128, 1) for image in val_data['pixels']])"
   ]
  },
  {
   "cell_type": "code",
   "execution_count": 12,
   "id": "9bded645-76d3-4e01-9aa1-03764e702fd7",
   "metadata": {
    "tags": []
   },
   "outputs": [],
   "source": [
    "y_train = np.array(train_data['emotion'])\n"
   ]
  },
  {
   "cell_type": "code",
   "execution_count": 13,
   "id": "9740d626-950f-4e65-8dc2-4bbe36886941",
   "metadata": {
    "tags": []
   },
   "outputs": [],
   "source": [
    "y_test = np.array(train_data['emotion'])\n"
   ]
  },
  {
   "cell_type": "code",
   "execution_count": 14,
   "id": "d1780ace-b472-4358-8172-87144d2227c0",
   "metadata": {
    "tags": []
   },
   "outputs": [],
   "source": [
    "y_val = np.array(train_data['emotion'])"
   ]
  },
  {
   "cell_type": "code",
   "execution_count": 15,
   "id": "174027fa-aaf3-4c41-8560-d2be007a0939",
   "metadata": {
    "tags": []
   },
   "outputs": [
    {
     "data": {
      "text/plain": [
       "(28709, 128, 128, 1)"
      ]
     },
     "execution_count": 15,
     "metadata": {},
     "output_type": "execute_result"
    }
   ],
   "source": [
    "x_train.shape"
   ]
  },
  {
   "cell_type": "code",
   "execution_count": 16,
   "id": "efc78bbb-48fa-441b-b13f-ceef399c4ef5",
   "metadata": {
    "tags": []
   },
   "outputs": [
    {
     "data": {
      "text/plain": [
       "array([[[[170],\n",
       "         [167],\n",
       "         [147],\n",
       "         ...,\n",
       "         [127],\n",
       "         [124],\n",
       "         [124]],\n",
       "\n",
       "        [[170],\n",
       "         [167],\n",
       "         [147],\n",
       "         ...,\n",
       "         [127],\n",
       "         [125],\n",
       "         [125]],\n",
       "\n",
       "        [[169],\n",
       "         [166],\n",
       "         [148],\n",
       "         ...,\n",
       "         [128],\n",
       "         [128],\n",
       "         [128]],\n",
       "\n",
       "        ...,\n",
       "\n",
       "        [[101],\n",
       "         [100],\n",
       "         [102],\n",
       "         ...,\n",
       "         [131],\n",
       "         [131],\n",
       "         [131]],\n",
       "\n",
       "        [[104],\n",
       "         [103],\n",
       "         [103],\n",
       "         ...,\n",
       "         [132],\n",
       "         [131],\n",
       "         [131]],\n",
       "\n",
       "        [[104],\n",
       "         [104],\n",
       "         [103],\n",
       "         ...,\n",
       "         [132],\n",
       "         [131],\n",
       "         [131]]],\n",
       "\n",
       "\n",
       "       [[[  7],\n",
       "         [  7],\n",
       "         [  6],\n",
       "         ...,\n",
       "         [ 13],\n",
       "         [ 15],\n",
       "         [ 15]],\n",
       "\n",
       "        [[  7],\n",
       "         [  7],\n",
       "         [  6],\n",
       "         ...,\n",
       "         [ 13],\n",
       "         [ 15],\n",
       "         [ 15]],\n",
       "\n",
       "        [[  7],\n",
       "         [  7],\n",
       "         [  6],\n",
       "         ...,\n",
       "         [ 13],\n",
       "         [ 16],\n",
       "         [ 17]],\n",
       "\n",
       "        ...,\n",
       "\n",
       "        [[ 19],\n",
       "         [ 19],\n",
       "         [ 17],\n",
       "         ...,\n",
       "         [ 55],\n",
       "         [ 53],\n",
       "         [ 53]],\n",
       "\n",
       "        [[ 17],\n",
       "         [ 17],\n",
       "         [ 17],\n",
       "         ...,\n",
       "         [ 54],\n",
       "         [ 52],\n",
       "         [ 52]],\n",
       "\n",
       "        [[ 17],\n",
       "         [ 17],\n",
       "         [ 16],\n",
       "         ...,\n",
       "         [ 54],\n",
       "         [ 52],\n",
       "         [ 52]]],\n",
       "\n",
       "\n",
       "       [[[232],\n",
       "         [232],\n",
       "         [235],\n",
       "         ...,\n",
       "         [234],\n",
       "         [235],\n",
       "         [235]],\n",
       "\n",
       "        [[232],\n",
       "         [232],\n",
       "         [235],\n",
       "         ...,\n",
       "         [234],\n",
       "         [235],\n",
       "         [235]],\n",
       "\n",
       "        [[231],\n",
       "         [232],\n",
       "         [234],\n",
       "         ...,\n",
       "         [233],\n",
       "         [234],\n",
       "         [234]],\n",
       "\n",
       "        ...,\n",
       "\n",
       "        [[235],\n",
       "         [231],\n",
       "         [207],\n",
       "         ...,\n",
       "         [  5],\n",
       "         [  6],\n",
       "         [  7]],\n",
       "\n",
       "        [[232],\n",
       "         [229],\n",
       "         [212],\n",
       "         ...,\n",
       "         [  6],\n",
       "         [  8],\n",
       "         [  9]],\n",
       "\n",
       "        [[232],\n",
       "         [229],\n",
       "         [212],\n",
       "         ...,\n",
       "         [  7],\n",
       "         [  8],\n",
       "         [  9]]],\n",
       "\n",
       "\n",
       "       ...,\n",
       "\n",
       "\n",
       "       [[[ 17],\n",
       "         [ 17],\n",
       "         [ 17],\n",
       "         ...,\n",
       "         [188],\n",
       "         [237],\n",
       "         [245]],\n",
       "\n",
       "        [[ 17],\n",
       "         [ 17],\n",
       "         [ 17],\n",
       "         ...,\n",
       "         [188],\n",
       "         [237],\n",
       "         [245]],\n",
       "\n",
       "        [[ 17],\n",
       "         [ 17],\n",
       "         [ 17],\n",
       "         ...,\n",
       "         [194],\n",
       "         [240],\n",
       "         [248]],\n",
       "\n",
       "        ...,\n",
       "\n",
       "        [[ 13],\n",
       "         [ 14],\n",
       "         [ 14],\n",
       "         ...,\n",
       "         [144],\n",
       "         [141],\n",
       "         [141]],\n",
       "\n",
       "        [[ 19],\n",
       "         [ 19],\n",
       "         [ 17],\n",
       "         ...,\n",
       "         [125],\n",
       "         [118],\n",
       "         [117]],\n",
       "\n",
       "        [[ 20],\n",
       "         [ 20],\n",
       "         [ 18],\n",
       "         ...,\n",
       "         [122],\n",
       "         [114],\n",
       "         [113]]],\n",
       "\n",
       "\n",
       "       [[[ 30],\n",
       "         [ 30],\n",
       "         [ 29],\n",
       "         ...,\n",
       "         [ 47],\n",
       "         [ 44],\n",
       "         [ 44]],\n",
       "\n",
       "        [[ 30],\n",
       "         [ 30],\n",
       "         [ 29],\n",
       "         ...,\n",
       "         [ 46],\n",
       "         [ 44],\n",
       "         [ 44]],\n",
       "\n",
       "        [[ 30],\n",
       "         [ 30],\n",
       "         [ 29],\n",
       "         ...,\n",
       "         [ 46],\n",
       "         [ 43],\n",
       "         [ 42]],\n",
       "\n",
       "        ...,\n",
       "\n",
       "        [[ 97],\n",
       "         [ 97],\n",
       "         [ 98],\n",
       "         ...,\n",
       "         [ 29],\n",
       "         [ 28],\n",
       "         [ 28]],\n",
       "\n",
       "        [[ 93],\n",
       "         [ 94],\n",
       "         [ 95],\n",
       "         ...,\n",
       "         [ 29],\n",
       "         [ 28],\n",
       "         [ 28]],\n",
       "\n",
       "        [[ 93],\n",
       "         [ 93],\n",
       "         [ 94],\n",
       "         ...,\n",
       "         [ 29],\n",
       "         [ 28],\n",
       "         [ 28]]],\n",
       "\n",
       "\n",
       "       [[[ 19],\n",
       "         [ 19],\n",
       "         [ 16],\n",
       "         ...,\n",
       "         [ 90],\n",
       "         [ 87],\n",
       "         [ 86]],\n",
       "\n",
       "        [[ 19],\n",
       "         [ 18],\n",
       "         [ 16],\n",
       "         ...,\n",
       "         [ 90],\n",
       "         [ 87],\n",
       "         [ 86]],\n",
       "\n",
       "        [[ 18],\n",
       "         [ 17],\n",
       "         [ 16],\n",
       "         ...,\n",
       "         [ 91],\n",
       "         [ 88],\n",
       "         [ 88]],\n",
       "\n",
       "        ...,\n",
       "\n",
       "        [[ 16],\n",
       "         [ 15],\n",
       "         [ 15],\n",
       "         ...,\n",
       "         [192],\n",
       "         [196],\n",
       "         [197]],\n",
       "\n",
       "        [[ 16],\n",
       "         [ 16],\n",
       "         [ 15],\n",
       "         ...,\n",
       "         [199],\n",
       "         [200],\n",
       "         [200]],\n",
       "\n",
       "        [[ 16],\n",
       "         [ 16],\n",
       "         [ 15],\n",
       "         ...,\n",
       "         [200],\n",
       "         [201],\n",
       "         [201]]]], dtype=uint8)"
      ]
     },
     "execution_count": 16,
     "metadata": {},
     "output_type": "execute_result"
    }
   ],
   "source": [
    "x_test"
   ]
  },
  {
   "cell_type": "code",
   "execution_count": 17,
   "id": "8a4040a3-7362-46bb-ba00-18c8a3fe2108",
   "metadata": {
    "tags": []
   },
   "outputs": [],
   "source": [
    "x_train = x_train.astype('float32') / 255.0\n"
   ]
  },
  {
   "cell_type": "code",
   "execution_count": 18,
   "id": "49cb023a-f2c6-46f8-8a2c-6b6cbd3e3b8f",
   "metadata": {
    "tags": []
   },
   "outputs": [],
   "source": [
    "x_test = x_train.astype('float32') / 255.0\n"
   ]
  },
  {
   "cell_type": "code",
   "execution_count": 19,
   "id": "7cb72f1c-7ea8-40b5-9bee-d7d85d14a91d",
   "metadata": {
    "tags": []
   },
   "outputs": [],
   "source": [
    "x_val = x_train.astype('float32') / 255.0"
   ]
  },
  {
   "cell_type": "code",
   "execution_count": 20,
   "id": "313721a7-5458-4531-8515-c2cfbaceaf44",
   "metadata": {
    "tags": []
   },
   "outputs": [
    {
     "data": {
      "text/plain": [
       "7"
      ]
     },
     "execution_count": 20,
     "metadata": {},
     "output_type": "execute_result"
    }
   ],
   "source": [
    "num_classes = len(np.unique(y_train))\n",
    "num_classes"
   ]
  },
  {
   "cell_type": "code",
   "execution_count": 21,
   "id": "4972a71d-b4f1-4e50-a809-31e9090aad9f",
   "metadata": {
    "tags": []
   },
   "outputs": [
    {
     "data": {
      "text/plain": [
       "array([0, 1, 2, 3, 4, 5, 6])"
      ]
     },
     "execution_count": 21,
     "metadata": {},
     "output_type": "execute_result"
    }
   ],
   "source": [
    "np.unique(y_train)"
   ]
  },
  {
   "cell_type": "code",
   "execution_count": 22,
   "id": "87885df8-31d3-4a9f-bb28-ab710495f5dd",
   "metadata": {
    "tags": []
   },
   "outputs": [],
   "source": [
    "y_train = np.eye(num_classes)[y_train]\n",
    "y_test = np.eye(num_classes)[y_test]\n",
    "y_val = np.eye(num_classes)[y_val]"
   ]
  },
  {
   "cell_type": "code",
   "execution_count": 23,
   "id": "a805e25d-1948-4599-9345-2ad580575be7",
   "metadata": {
    "tags": []
   },
   "outputs": [
    {
     "name": "stderr",
     "output_type": "stream",
     "text": [
      "2023-04-20 19:30:12.310473: E tensorflow/compiler/xla/stream_executor/cuda/cuda_driver.cc:267] failed call to cuInit: CUDA_ERROR_NO_DEVICE: no CUDA-capable device is detected\n",
      "2023-04-20 19:30:12.311881: I tensorflow/compiler/xla/stream_executor/cuda/cuda_diagnostics.cc:156] kernel driver does not appear to be running on this host (blacklisted): /proc/driver/nvidia/version does not exist\n",
      "2023-04-20 19:30:12.317871: I tensorflow/core/platform/cpu_feature_guard.cc:193] This TensorFlow binary is optimized with oneAPI Deep Neural Network Library (oneDNN) to use the following CPU instructions in performance-critical operations:  AVX2 FMA\n",
      "To enable them in other operations, rebuild TensorFlow with the appropriate compiler flags.\n",
      "2023-04-20 19:30:13.540359: W tensorflow/tsl/framework/cpu_allocator_impl.cc:82] Allocation of 125960192 exceeds 10% of free system memory.\n",
      "2023-04-20 19:30:13.598848: W tensorflow/tsl/framework/cpu_allocator_impl.cc:82] Allocation of 125960192 exceeds 10% of free system memory.\n",
      "2023-04-20 19:30:13.777131: W tensorflow/tsl/framework/cpu_allocator_impl.cc:82] Allocation of 125960192 exceeds 10% of free system memory.\n"
     ]
    }
   ],
   "source": [
    "\n",
    "# Define the model architecture\n",
    "model = Sequential()\n",
    "model.add(Conv2D(32, kernel_size=(3, 3), activation='relu', input_shape=(128, 128, 1)))\n",
    "model.add(Conv2D(64, kernel_size=(3, 3), activation='relu'))\n",
    "model.add(MaxPooling2D(pool_size=(2, 2)))\n",
    "model.add(Dropout(0.25))\n",
    "model.add(Flatten())\n",
    "model.add(Dense(128, activation='relu'))\n",
    "model.add(Dropout(0.5))\n",
    "model.add(Dense(7, activation='softmax'))\n",
    "\n"
   ]
  },
  {
   "cell_type": "code",
   "execution_count": 25,
   "id": "693c4391-57be-4846-8ccd-c5effd8da264",
   "metadata": {},
   "outputs": [
    {
     "data": {
      "text/plain": [
       "<bound method Model.summary of <keras.engine.sequential.Sequential object at 0x7f38f2771e40>>"
      ]
     },
     "execution_count": 25,
     "metadata": {},
     "output_type": "execute_result"
    }
   ],
   "source": [
    "model.summary"
   ]
  },
  {
   "cell_type": "code",
   "execution_count": 27,
   "id": "0d5ac4f8",
   "metadata": {},
   "outputs": [],
   "source": [
    "model.compile(loss='categorical_crossentropy', optimizer='adam', metrics=['accuracy'])"
   ]
  },
  {
   "cell_type": "code",
   "execution_count": 30,
   "id": "8734c9fd",
   "metadata": {},
   "outputs": [
    {
     "name": "stdout",
     "output_type": "stream",
     "text": [
      "Model: \"sequential\"\n",
      "_________________________________________________________________\n",
      " Layer (type)                Output Shape              Param #   \n",
      "=================================================================\n",
      " conv2d (Conv2D)             (None, 126, 126, 32)      320       \n",
      "                                                                 \n",
      " conv2d_1 (Conv2D)           (None, 124, 124, 64)      18496     \n",
      "                                                                 \n",
      " max_pooling2d (MaxPooling2D  (None, 62, 62, 64)       0         \n",
      " )                                                               \n",
      "                                                                 \n",
      " dropout (Dropout)           (None, 62, 62, 64)        0         \n",
      "                                                                 \n",
      " flatten (Flatten)           (None, 246016)            0         \n",
      "                                                                 \n",
      " dense (Dense)               (None, 128)               31490176  \n",
      "                                                                 \n",
      " dropout_1 (Dropout)         (None, 128)               0         \n",
      "                                                                 \n",
      " dense_1 (Dense)             (None, 7)                 903       \n",
      "                                                                 \n",
      "=================================================================\n",
      "Total params: 31,509,895\n",
      "Trainable params: 31,509,895\n",
      "Non-trainable params: 0\n",
      "_________________________________________________________________\n"
     ]
    }
   ],
   "source": [
    "model.summary()"
   ]
  },
  {
   "cell_type": "code",
   "execution_count": 31,
   "id": "8d4effe8",
   "metadata": {},
   "outputs": [
    {
     "name": "stdout",
     "output_type": "stream",
     "text": [
      "Epoch 1/10\n"
     ]
    },
    {
     "name": "stderr",
     "output_type": "stream",
     "text": [
      "2023-04-20 19:34:53.620488: W tensorflow/tsl/framework/cpu_allocator_impl.cc:82] Allocation of 1881473024 exceeds 10% of free system memory.\n",
      "2023-04-20 19:34:56.016390: W tensorflow/tsl/framework/cpu_allocator_impl.cc:82] Allocation of 125960192 exceeds 10% of free system memory.\n"
     ]
    },
    {
     "name": "stdout",
     "output_type": "stream",
     "text": [
      "898/898 [==============================] - 634s 705ms/step - loss: 1.7647 - accuracy: 0.3010 - val_loss: 2.0703 - val_accuracy: 0.1682\n",
      "Epoch 2/10\n",
      "898/898 [==============================] - 630s 701ms/step - loss: 1.5856 - accuracy: 0.3828 - val_loss: 2.0235 - val_accuracy: 0.1682\n",
      "Epoch 3/10\n",
      "898/898 [==============================] - 612s 682ms/step - loss: 1.4999 - accuracy: 0.4145 - val_loss: 2.3906 - val_accuracy: 0.1682\n",
      "Epoch 4/10\n",
      "898/898 [==============================] - 613s 683ms/step - loss: 1.4115 - accuracy: 0.4523 - val_loss: 2.1873 - val_accuracy: 0.1682\n",
      "Epoch 5/10\n",
      "898/898 [==============================] - 611s 681ms/step - loss: 1.3163 - accuracy: 0.4922 - val_loss: 2.1351 - val_accuracy: 0.1682\n",
      "Epoch 6/10\n",
      "898/898 [==============================] - 611s 681ms/step - loss: 1.2064 - accuracy: 0.5375 - val_loss: 2.1196 - val_accuracy: 0.1682\n",
      "Epoch 7/10\n",
      "395/898 [============>.................] - ETA: 5:05 - loss: 1.0865 - accuracy: 0.5839"
     ]
    }
   ],
   "source": [
    "model.fit(x_train,y_train, batch_size=32, epochs=10, validation_data=(x_val,y_val))"
   ]
  },
  {
   "cell_type": "markdown",
   "id": "9192a24d",
   "metadata": {},
   "source": []
  }
 ],
 "metadata": {
  "kernelspec": {
   "display_name": "venv",
   "language": "python",
   "name": "python3"
  },
  "language_info": {
   "codemirror_mode": {
    "name": "ipython",
    "version": 3
   },
   "file_extension": ".py",
   "mimetype": "text/x-python",
   "name": "python",
   "nbconvert_exporter": "python",
   "pygments_lexer": "ipython3",
   "version": "3.10.6"
  }
 },
 "nbformat": 4,
 "nbformat_minor": 5
}
